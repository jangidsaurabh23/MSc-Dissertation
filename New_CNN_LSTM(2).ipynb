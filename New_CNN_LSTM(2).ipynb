{
  "nbformat": 4,
  "nbformat_minor": 0,
  "metadata": {
    "colab": {
      "name": "New_CNN_LSTM.ipynb",
      "provenance": [],
      "collapsed_sections": []
    },
    "kernelspec": {
      "name": "python3",
      "display_name": "Python 3"
    }
  },
  "cells": [
    {
      "cell_type": "code",
      "metadata": {
        "id": "ISgA4Yahcc5l",
        "colab_type": "code",
        "colab": {}
      },
      "source": [
        "#importing libraries\n",
        "from __future__ import print_function\n",
        "import numpy as np\n",
        "np.random.seed(1337)  # for reproducibility\n",
        "\n",
        "from keras.preprocessing import sequence\n",
        "from keras.models import Sequential\n",
        "from keras.layers import Dense, Dropout, Activation, Lambda\n",
        "from keras.layers import Embedding\n",
        "from keras.layers import Convolution1D,MaxPooling1D, Flatten\n",
        "from keras import backend as K\n",
        "from sklearn.model_selection import train_test_split\n",
        "import pandas as pd\n",
        "from keras.utils.np_utils import to_categorical"
      ],
      "execution_count": 1,
      "outputs": []
    },
    {
      "cell_type": "code",
      "metadata": {
        "id": "pVPjMuEuej7c",
        "colab_type": "code",
        "colab": {}
      },
      "source": [
        "from sklearn.preprocessing import Normalizer\n",
        "from keras.models import Sequential\n",
        "from keras.layers import Convolution1D, Dense, Dropout, Flatten, MaxPooling1D\n",
        "from keras.utils import np_utils\n",
        "import h5py\n",
        "from keras import callbacks\n",
        "from keras.layers import LSTM, GRU, SimpleRNN\n",
        "from keras.callbacks import CSVLogger\n",
        "from keras.callbacks import ModelCheckpoint, EarlyStopping, ReduceLROnPlateau, CSVLogger\n",
        "from sklearn.metrics import (precision_score, recall_score,f1_score, accuracy_score,mean_squared_error,mean_absolute_error)\n",
        "from sklearn import metrics"
      ],
      "execution_count": 2,
      "outputs": []
    },
    {
      "cell_type": "code",
      "metadata": {
        "id": "5WKCU0hQVkzn",
        "colab_type": "code",
        "colab": {}
      },
      "source": [
        "columns = [\"duration\",\"protocol_type\",\"service\",\"flag\",\"src_bytes\",\"dst_bytes\",\"land\",\"wrong_fragment\",\"urgent\",\"hot\",\"m_failed_logins\",\n",
        "\"logged_in\", \"num_compromised\",\"root_shell\",\"su_attempted\",\"num_root\",\"num_file_creations\",\"num_shells\",\"num_access_files\",\n",
        "\"num_outbound_cmds\",\"is_host_login\",\"is_guest_login\",\"count\",\"srv_count\",\"serror_rate\",\"srv_serror_rate\",\"rerror_rate\",\"srv_rerror_rate\",\n",
        "\"same_srv_rate\",\"diff_srv_rate\",\"srv_diff_host_rate\",\"dst_host_count\",\"dst_host_srv_count\",\"dst_host_same_srv_rate\",\"dst_host_diff_srv_rate\",\n",
        "\"dst_host_same_src_port_rate\", \"dst_host_srv_diff_host_rate\",\"dst_host_serror_rate\",\"dst_host_srv_serror_rate\",\"dst_host_rerror_rate\",\n",
        "\"dst_host_srv_rerror_rate\",\"label\"]"
      ],
      "execution_count": 3,
      "outputs": []
    },
    {
      "cell_type": "code",
      "metadata": {
        "id": "rVROI0lGVrnQ",
        "colab_type": "code",
        "colab": {}
      },
      "source": [
        "attacks_type = {\n",
        "'normal': 'normal',\n",
        "'back': 'dos',\n",
        "'buffer_overflow': 'u2r',\n",
        "'ftp_write': 'r2l',\n",
        "'guess_passwd': 'r2l',\n",
        "'imap': 'r2l',\n",
        "'ipsweep': 'probe',\n",
        "'land': 'dos',\n",
        "'loadmodule': 'u2r',\n",
        "'multihop': 'r2l',\n",
        "'neptune': 'dos',\n",
        "'nmap': 'probe',\n",
        "'perl': 'u2r',\n",
        "'phf': 'r2l',\n",
        "'pod': 'dos',\n",
        "'portsweep': 'probe',\n",
        "'rootkit': 'u2r',\n",
        "'satan': 'probe',\n",
        "'smurf': 'dos',\n",
        "'spy': 'r2l',\n",
        "'teardrop': 'dos',\n",
        "'warezclient': 'r2l',\n",
        "'warezmaster': 'r2l',\n",
        "    }"
      ],
      "execution_count": 4,
      "outputs": []
    },
    {
      "cell_type": "code",
      "metadata": {
        "id": "KMNKQFSy5EZb",
        "colab_type": "code",
        "colab": {}
      },
      "source": [
        "df = pd.read_csv('/content/kddcup.data_10_percent_corrected.csv',names=columns)"
      ],
      "execution_count": 5,
      "outputs": []
    },
    {
      "cell_type": "code",
      "metadata": {
        "id": "R7rmW6cc-Mgr",
        "colab_type": "code",
        "colab": {}
      },
      "source": [
        "df['label'] = df.label.apply(lambda r: attacks_type[r[:-1]])"
      ],
      "execution_count": 6,
      "outputs": []
    },
    {
      "cell_type": "code",
      "metadata": {
        "id": "WA6KnEdl5NQE",
        "colab_type": "code",
        "colab": {}
      },
      "source": [
        "#data transformation\n",
        "def labels(row):\n",
        "    attacks_type = row['label']\n",
        "    if(attacks_type == 'normal'):\n",
        "        return 0\n",
        "    else:\n",
        "        return 1"
      ],
      "execution_count": 12,
      "outputs": []
    },
    {
      "cell_type": "code",
      "metadata": {
        "id": "HllriNrb8PYJ",
        "colab_type": "code",
        "colab": {}
      },
      "source": [
        "def createLabels(df):\n",
        "  df['Outcome']= df.apply (lambda row: labels(row), axis=1)\n",
        "  return df"
      ],
      "execution_count": 13,
      "outputs": []
    },
    {
      "cell_type": "code",
      "metadata": {
        "id": "phikHp2H8VR7",
        "colab_type": "code",
        "colab": {}
      },
      "source": [
        "df = createLabels(df)"
      ],
      "execution_count": 14,
      "outputs": []
    },
    {
      "cell_type": "code",
      "metadata": {
        "id": "1PZ83UTTYrtP",
        "colab_type": "code",
        "colab": {
          "base_uri": "https://localhost:8080/",
          "height": 35
        },
        "outputId": "e0baacc8-558a-4cab-c820-0143f983a101"
      },
      "source": [
        "df['Outcome'].unique()"
      ],
      "execution_count": 15,
      "outputs": [
        {
          "output_type": "execute_result",
          "data": {
            "text/plain": [
              "array([0, 1])"
            ]
          },
          "metadata": {
            "tags": []
          },
          "execution_count": 15
        }
      ]
    },
    {
      "cell_type": "code",
      "metadata": {
        "id": "-zXIb_nG8ZZB",
        "colab_type": "code",
        "colab": {}
      },
      "source": [
        "df.drop(['label'],axis = 1,inplace = True)"
      ],
      "execution_count": 16,
      "outputs": []
    },
    {
      "cell_type": "code",
      "metadata": {
        "id": "VIDQ30F6_koV",
        "colab_type": "code",
        "colab": {
          "base_uri": "https://localhost:8080/",
          "height": 226
        },
        "outputId": "726af83e-f58c-4ee2-999a-aff44631045c"
      },
      "source": [
        "df.head()"
      ],
      "execution_count": 17,
      "outputs": [
        {
          "output_type": "execute_result",
          "data": {
            "text/html": [
              "<div>\n",
              "<style scoped>\n",
              "    .dataframe tbody tr th:only-of-type {\n",
              "        vertical-align: middle;\n",
              "    }\n",
              "\n",
              "    .dataframe tbody tr th {\n",
              "        vertical-align: top;\n",
              "    }\n",
              "\n",
              "    .dataframe thead th {\n",
              "        text-align: right;\n",
              "    }\n",
              "</style>\n",
              "<table border=\"1\" class=\"dataframe\">\n",
              "  <thead>\n",
              "    <tr style=\"text-align: right;\">\n",
              "      <th></th>\n",
              "      <th>duration</th>\n",
              "      <th>protocol_type</th>\n",
              "      <th>service</th>\n",
              "      <th>flag</th>\n",
              "      <th>src_bytes</th>\n",
              "      <th>dst_bytes</th>\n",
              "      <th>land</th>\n",
              "      <th>wrong_fragment</th>\n",
              "      <th>urgent</th>\n",
              "      <th>hot</th>\n",
              "      <th>m_failed_logins</th>\n",
              "      <th>logged_in</th>\n",
              "      <th>num_compromised</th>\n",
              "      <th>root_shell</th>\n",
              "      <th>su_attempted</th>\n",
              "      <th>num_root</th>\n",
              "      <th>num_file_creations</th>\n",
              "      <th>num_shells</th>\n",
              "      <th>num_access_files</th>\n",
              "      <th>num_outbound_cmds</th>\n",
              "      <th>is_host_login</th>\n",
              "      <th>is_guest_login</th>\n",
              "      <th>count</th>\n",
              "      <th>srv_count</th>\n",
              "      <th>serror_rate</th>\n",
              "      <th>srv_serror_rate</th>\n",
              "      <th>rerror_rate</th>\n",
              "      <th>srv_rerror_rate</th>\n",
              "      <th>same_srv_rate</th>\n",
              "      <th>diff_srv_rate</th>\n",
              "      <th>srv_diff_host_rate</th>\n",
              "      <th>dst_host_count</th>\n",
              "      <th>dst_host_srv_count</th>\n",
              "      <th>dst_host_same_srv_rate</th>\n",
              "      <th>dst_host_diff_srv_rate</th>\n",
              "      <th>dst_host_same_src_port_rate</th>\n",
              "      <th>dst_host_srv_diff_host_rate</th>\n",
              "      <th>dst_host_serror_rate</th>\n",
              "      <th>dst_host_srv_serror_rate</th>\n",
              "      <th>dst_host_rerror_rate</th>\n",
              "      <th>dst_host_srv_rerror_rate</th>\n",
              "      <th>Outcome</th>\n",
              "    </tr>\n",
              "  </thead>\n",
              "  <tbody>\n",
              "    <tr>\n",
              "      <th>0</th>\n",
              "      <td>0</td>\n",
              "      <td>tcp</td>\n",
              "      <td>http</td>\n",
              "      <td>SF</td>\n",
              "      <td>181</td>\n",
              "      <td>5450</td>\n",
              "      <td>0</td>\n",
              "      <td>0</td>\n",
              "      <td>0</td>\n",
              "      <td>0</td>\n",
              "      <td>0</td>\n",
              "      <td>1</td>\n",
              "      <td>0</td>\n",
              "      <td>0</td>\n",
              "      <td>0</td>\n",
              "      <td>0</td>\n",
              "      <td>0</td>\n",
              "      <td>0</td>\n",
              "      <td>0</td>\n",
              "      <td>0</td>\n",
              "      <td>0</td>\n",
              "      <td>0</td>\n",
              "      <td>8</td>\n",
              "      <td>8</td>\n",
              "      <td>0.0</td>\n",
              "      <td>0.0</td>\n",
              "      <td>0.0</td>\n",
              "      <td>0.0</td>\n",
              "      <td>1.0</td>\n",
              "      <td>0.0</td>\n",
              "      <td>0.0</td>\n",
              "      <td>9</td>\n",
              "      <td>9</td>\n",
              "      <td>1.0</td>\n",
              "      <td>0.0</td>\n",
              "      <td>0.11</td>\n",
              "      <td>0.0</td>\n",
              "      <td>0.0</td>\n",
              "      <td>0.0</td>\n",
              "      <td>0.0</td>\n",
              "      <td>0.0</td>\n",
              "      <td>0</td>\n",
              "    </tr>\n",
              "    <tr>\n",
              "      <th>1</th>\n",
              "      <td>0</td>\n",
              "      <td>tcp</td>\n",
              "      <td>http</td>\n",
              "      <td>SF</td>\n",
              "      <td>239</td>\n",
              "      <td>486</td>\n",
              "      <td>0</td>\n",
              "      <td>0</td>\n",
              "      <td>0</td>\n",
              "      <td>0</td>\n",
              "      <td>0</td>\n",
              "      <td>1</td>\n",
              "      <td>0</td>\n",
              "      <td>0</td>\n",
              "      <td>0</td>\n",
              "      <td>0</td>\n",
              "      <td>0</td>\n",
              "      <td>0</td>\n",
              "      <td>0</td>\n",
              "      <td>0</td>\n",
              "      <td>0</td>\n",
              "      <td>0</td>\n",
              "      <td>8</td>\n",
              "      <td>8</td>\n",
              "      <td>0.0</td>\n",
              "      <td>0.0</td>\n",
              "      <td>0.0</td>\n",
              "      <td>0.0</td>\n",
              "      <td>1.0</td>\n",
              "      <td>0.0</td>\n",
              "      <td>0.0</td>\n",
              "      <td>19</td>\n",
              "      <td>19</td>\n",
              "      <td>1.0</td>\n",
              "      <td>0.0</td>\n",
              "      <td>0.05</td>\n",
              "      <td>0.0</td>\n",
              "      <td>0.0</td>\n",
              "      <td>0.0</td>\n",
              "      <td>0.0</td>\n",
              "      <td>0.0</td>\n",
              "      <td>0</td>\n",
              "    </tr>\n",
              "    <tr>\n",
              "      <th>2</th>\n",
              "      <td>0</td>\n",
              "      <td>tcp</td>\n",
              "      <td>http</td>\n",
              "      <td>SF</td>\n",
              "      <td>235</td>\n",
              "      <td>1337</td>\n",
              "      <td>0</td>\n",
              "      <td>0</td>\n",
              "      <td>0</td>\n",
              "      <td>0</td>\n",
              "      <td>0</td>\n",
              "      <td>1</td>\n",
              "      <td>0</td>\n",
              "      <td>0</td>\n",
              "      <td>0</td>\n",
              "      <td>0</td>\n",
              "      <td>0</td>\n",
              "      <td>0</td>\n",
              "      <td>0</td>\n",
              "      <td>0</td>\n",
              "      <td>0</td>\n",
              "      <td>0</td>\n",
              "      <td>8</td>\n",
              "      <td>8</td>\n",
              "      <td>0.0</td>\n",
              "      <td>0.0</td>\n",
              "      <td>0.0</td>\n",
              "      <td>0.0</td>\n",
              "      <td>1.0</td>\n",
              "      <td>0.0</td>\n",
              "      <td>0.0</td>\n",
              "      <td>29</td>\n",
              "      <td>29</td>\n",
              "      <td>1.0</td>\n",
              "      <td>0.0</td>\n",
              "      <td>0.03</td>\n",
              "      <td>0.0</td>\n",
              "      <td>0.0</td>\n",
              "      <td>0.0</td>\n",
              "      <td>0.0</td>\n",
              "      <td>0.0</td>\n",
              "      <td>0</td>\n",
              "    </tr>\n",
              "    <tr>\n",
              "      <th>3</th>\n",
              "      <td>0</td>\n",
              "      <td>tcp</td>\n",
              "      <td>http</td>\n",
              "      <td>SF</td>\n",
              "      <td>219</td>\n",
              "      <td>1337</td>\n",
              "      <td>0</td>\n",
              "      <td>0</td>\n",
              "      <td>0</td>\n",
              "      <td>0</td>\n",
              "      <td>0</td>\n",
              "      <td>1</td>\n",
              "      <td>0</td>\n",
              "      <td>0</td>\n",
              "      <td>0</td>\n",
              "      <td>0</td>\n",
              "      <td>0</td>\n",
              "      <td>0</td>\n",
              "      <td>0</td>\n",
              "      <td>0</td>\n",
              "      <td>0</td>\n",
              "      <td>0</td>\n",
              "      <td>6</td>\n",
              "      <td>6</td>\n",
              "      <td>0.0</td>\n",
              "      <td>0.0</td>\n",
              "      <td>0.0</td>\n",
              "      <td>0.0</td>\n",
              "      <td>1.0</td>\n",
              "      <td>0.0</td>\n",
              "      <td>0.0</td>\n",
              "      <td>39</td>\n",
              "      <td>39</td>\n",
              "      <td>1.0</td>\n",
              "      <td>0.0</td>\n",
              "      <td>0.03</td>\n",
              "      <td>0.0</td>\n",
              "      <td>0.0</td>\n",
              "      <td>0.0</td>\n",
              "      <td>0.0</td>\n",
              "      <td>0.0</td>\n",
              "      <td>0</td>\n",
              "    </tr>\n",
              "    <tr>\n",
              "      <th>4</th>\n",
              "      <td>0</td>\n",
              "      <td>tcp</td>\n",
              "      <td>http</td>\n",
              "      <td>SF</td>\n",
              "      <td>217</td>\n",
              "      <td>2032</td>\n",
              "      <td>0</td>\n",
              "      <td>0</td>\n",
              "      <td>0</td>\n",
              "      <td>0</td>\n",
              "      <td>0</td>\n",
              "      <td>1</td>\n",
              "      <td>0</td>\n",
              "      <td>0</td>\n",
              "      <td>0</td>\n",
              "      <td>0</td>\n",
              "      <td>0</td>\n",
              "      <td>0</td>\n",
              "      <td>0</td>\n",
              "      <td>0</td>\n",
              "      <td>0</td>\n",
              "      <td>0</td>\n",
              "      <td>6</td>\n",
              "      <td>6</td>\n",
              "      <td>0.0</td>\n",
              "      <td>0.0</td>\n",
              "      <td>0.0</td>\n",
              "      <td>0.0</td>\n",
              "      <td>1.0</td>\n",
              "      <td>0.0</td>\n",
              "      <td>0.0</td>\n",
              "      <td>49</td>\n",
              "      <td>49</td>\n",
              "      <td>1.0</td>\n",
              "      <td>0.0</td>\n",
              "      <td>0.02</td>\n",
              "      <td>0.0</td>\n",
              "      <td>0.0</td>\n",
              "      <td>0.0</td>\n",
              "      <td>0.0</td>\n",
              "      <td>0.0</td>\n",
              "      <td>0</td>\n",
              "    </tr>\n",
              "  </tbody>\n",
              "</table>\n",
              "</div>"
            ],
            "text/plain": [
              "   duration protocol_type  ... dst_host_srv_rerror_rate Outcome\n",
              "0         0           tcp  ...                      0.0       0\n",
              "1         0           tcp  ...                      0.0       0\n",
              "2         0           tcp  ...                      0.0       0\n",
              "3         0           tcp  ...                      0.0       0\n",
              "4         0           tcp  ...                      0.0       0\n",
              "\n",
              "[5 rows x 42 columns]"
            ]
          },
          "metadata": {
            "tags": []
          },
          "execution_count": 17
        }
      ]
    },
    {
      "cell_type": "code",
      "metadata": {
        "id": "3mdB1gucgmt2",
        "colab_type": "code",
        "colab": {
          "base_uri": "https://localhost:8080/",
          "height": 283
        },
        "outputId": "eba6ffac-8748-4be1-a5ef-6e7bf4fd185e"
      },
      "source": [
        "df['Outcome'].hist()"
      ],
      "execution_count": 18,
      "outputs": [
        {
          "output_type": "execute_result",
          "data": {
            "text/plain": [
              "<matplotlib.axes._subplots.AxesSubplot at 0x7f5a8c676c18>"
            ]
          },
          "metadata": {
            "tags": []
          },
          "execution_count": 18
        },
        {
          "output_type": "display_data",
          "data": {
            "image/png": "[encoded data removed]",
            "text/plain": [
              "<Figure size 432x288 with 1 Axes>"
            ]
          },
          "metadata": {
            "tags": [],
            "needs_background": "light"
          }
        }
      ]
    },
    {
      "cell_type": "code",
      "metadata": {
        "id": "G6ayjoIafbSn",
        "colab_type": "code",
        "colab": {}
      },
      "source": [
        "from sklearn.feature_selection import SelectKBest"
      ],
      "execution_count": 19,
      "outputs": []
    },
    {
      "cell_type": "code",
      "metadata": {
        "id": "uUd9wjRfe4FD",
        "colab_type": "code",
        "colab": {}
      },
      "source": [
        "X = df.iloc[:,1:41]\n",
        "Y = df.iloc[:,-1]"
      ],
      "execution_count": 20,
      "outputs": []
    },
    {
      "cell_type": "code",
      "metadata": {
        "id": "HUDd7ybOgc_4",
        "colab_type": "code",
        "colab": {
          "base_uri": "https://localhost:8080/",
          "height": 239
        },
        "outputId": "76766945-bec8-4fdb-e186-bda9929e5523"
      },
      "source": [
        "Y"
      ],
      "execution_count": 21,
      "outputs": [
        {
          "output_type": "execute_result",
          "data": {
            "text/plain": [
              "0         0\n",
              "1         0\n",
              "2         0\n",
              "3         0\n",
              "4         0\n",
              "         ..\n",
              "494016    0\n",
              "494017    0\n",
              "494018    0\n",
              "494019    0\n",
              "494020    0\n",
              "Name: Outcome, Length: 494021, dtype: int64"
            ]
          },
          "metadata": {
            "tags": []
          },
          "execution_count": 21
        }
      ]
    },
    {
      "cell_type": "code",
      "metadata": {
        "id": "3ydi1YByfs-6",
        "colab_type": "code",
        "colab": {}
      },
      "source": [
        "from sklearn import preprocessing"
      ],
      "execution_count": 22,
      "outputs": []
    },
    {
      "cell_type": "code",
      "metadata": {
        "id": "yEHgAa5nfClC",
        "colab_type": "code",
        "colab": {
          "base_uri": "https://localhost:8080/",
          "height": 589
        },
        "outputId": "ea6372a6-2be9-4ce9-bf51-6b3a5c08df57"
      },
      "source": [
        "for c in X.columns:\n",
        "     if str(X[c].dtype) == 'object':\n",
        "            print(c, \"::\", X[c].dtype, X[c].value_counts())\n",
        "            #print(c, \"::\", T[c].dtype, T[c].value_counts())\n",
        "            print(\"=======\")\n",
        "\n",
        "le_X = preprocessing.LabelEncoder()\n",
        "le_y = preprocessing.LabelEncoder()\n",
        "\n",
        "for c in X.columns:\n",
        "    if str(X[c].dtype) == 'object': \n",
        "        X[c] = le_X.fit_transform(X[c])\n",
        "    #if str(T[c].dtype) == 'object':\n",
        "        #T[c] = le_X.fit_transform(T[c])\n",
        "\n",
        "Y = le_y.fit_transform(Y)\n",
        "#C = le_y.fit_transform(C)"
      ],
      "execution_count": 23,
      "outputs": [
        {
          "output_type": "stream",
          "text": [
            "protocol_type :: object icmp    283602\n",
            "tcp     190065\n",
            "udp      20354\n",
            "Name: protocol_type, dtype: int64\n",
            "=======\n",
            "service :: object ecr_i      281400\n",
            "private    110893\n",
            "http        64293\n",
            "smtp         9723\n",
            "other        7237\n",
            "            ...  \n",
            "X11            11\n",
            "tim_i           7\n",
            "red_i           1\n",
            "pm_dump         1\n",
            "tftp_u          1\n",
            "Name: service, Length: 66, dtype: int64\n",
            "=======\n",
            "flag :: object SF        378440\n",
            "S0         87007\n",
            "REJ        26875\n",
            "RSTR         903\n",
            "RSTO         579\n",
            "SH           107\n",
            "S1            57\n",
            "S2            24\n",
            "RSTOS0        11\n",
            "S3            10\n",
            "OTH            8\n",
            "Name: flag, dtype: int64\n",
            "=======\n"
          ],
          "name": "stdout"
        }
      ]
    },
    {
      "cell_type": "code",
      "metadata": {
        "id": "XyA87z_cfyIM",
        "colab_type": "code",
        "colab": {}
      },
      "source": [
        "scaler = Normalizer().fit(X)\n",
        "X = scaler.transform(X)\n",
        "np.set_printoptions(precision=3)\n"
      ],
      "execution_count": 24,
      "outputs": []
    },
    {
      "cell_type": "code",
      "metadata": {
        "id": "U_7GIgQfBEXj",
        "colab_type": "code",
        "colab": {
          "base_uri": "https://localhost:8080/",
          "height": 35
        },
        "outputId": "5bd7b340-a357-4db1-8258-7ac8cf207a6e"
      },
      "source": [
        "X.shape"
      ],
      "execution_count": 25,
      "outputs": [
        {
          "output_type": "execute_result",
          "data": {
            "text/plain": [
              "(494021, 40)"
            ]
          },
          "metadata": {
            "tags": []
          },
          "execution_count": 25
        }
      ]
    },
    {
      "cell_type": "code",
      "metadata": {
        "id": "u7h9tL9UDdtL",
        "colab_type": "code",
        "colab": {
          "base_uri": "https://localhost:8080/",
          "height": 35
        },
        "outputId": "d791a1af-739f-47f6-c549-551d2f3b687c"
      },
      "source": [
        "Y.shape"
      ],
      "execution_count": 26,
      "outputs": [
        {
          "output_type": "execute_result",
          "data": {
            "text/plain": [
              "(494021,)"
            ]
          },
          "metadata": {
            "tags": []
          },
          "execution_count": 26
        }
      ]
    },
    {
      "cell_type": "code",
      "metadata": {
        "id": "ruW4zD7nf2Pn",
        "colab_type": "code",
        "colab": {}
      },
      "source": [
        "from sklearn.model_selection import train_test_split"
      ],
      "execution_count": 27,
      "outputs": []
    },
    {
      "cell_type": "code",
      "metadata": {
        "id": "epi7sx5CDpet",
        "colab_type": "code",
        "colab": {}
      },
      "source": [
        "X_train1,X_test1,Y_train1,Y_test1 = train_test_split(X,Y, test_size = 0.3 , random_state = 101)"
      ],
      "execution_count": 28,
      "outputs": []
    },
    {
      "cell_type": "code",
      "metadata": {
        "id": "_qM3aYGyhkVj",
        "colab_type": "code",
        "colab": {
          "base_uri": "https://localhost:8080/",
          "height": 35
        },
        "outputId": "eb64bb62-cd47-4f90-adc5-f55e341e8f77"
      },
      "source": [
        "X_train1.shape"
      ],
      "execution_count": 29,
      "outputs": [
        {
          "output_type": "execute_result",
          "data": {
            "text/plain": [
              "(345814, 40)"
            ]
          },
          "metadata": {
            "tags": []
          },
          "execution_count": 29
        }
      ]
    },
    {
      "cell_type": "code",
      "metadata": {
        "id": "ty6Y9vsGhtCC",
        "colab_type": "code",
        "colab": {
          "base_uri": "https://localhost:8080/",
          "height": 35
        },
        "outputId": "16d4194e-088d-466c-d1eb-fe61b670a933"
      },
      "source": [
        "Y_train1.shape"
      ],
      "execution_count": 30,
      "outputs": [
        {
          "output_type": "execute_result",
          "data": {
            "text/plain": [
              "(345814,)"
            ]
          },
          "metadata": {
            "tags": []
          },
          "execution_count": 30
        }
      ]
    },
    {
      "cell_type": "code",
      "metadata": {
        "id": "eHPY0o-Iw04k",
        "colab_type": "code",
        "colab": {
          "base_uri": "https://localhost:8080/",
          "height": 35
        },
        "outputId": "cb11c68c-4d4d-42e4-e1dd-26d40c28d3a7"
      },
      "source": [
        "type(X_train1)"
      ],
      "execution_count": 31,
      "outputs": [
        {
          "output_type": "execute_result",
          "data": {
            "text/plain": [
              "numpy.ndarray"
            ]
          },
          "metadata": {
            "tags": []
          },
          "execution_count": 31
        }
      ]
    },
    {
      "cell_type": "code",
      "metadata": {
        "id": "9XWigNbnEkVm",
        "colab_type": "code",
        "colab": {}
      },
      "source": [
        "# reshape input to be [`asamples, time steps, features]\n",
        "X_train1 = X_train1.reshape(-1, 1, 40)\n",
        "X_test1  = X_test1.reshape(-1, 1, 40)"
      ],
      "execution_count": 32,
      "outputs": []
    },
    {
      "cell_type": "code",
      "metadata": {
        "id": "Pt_yZvQblRcW",
        "colab_type": "code",
        "colab": {
          "base_uri": "https://localhost:8080/",
          "height": 35
        },
        "outputId": "97ef6b63-d8b1-43ba-b37f-5961bee2b5ba"
      },
      "source": [
        "X_train1.shape"
      ],
      "execution_count": 33,
      "outputs": [
        {
          "output_type": "execute_result",
          "data": {
            "text/plain": [
              "(345814, 1, 40)"
            ]
          },
          "metadata": {
            "tags": []
          },
          "execution_count": 33
        }
      ]
    },
    {
      "cell_type": "code",
      "metadata": {
        "id": "cDe5ZkNylYCY",
        "colab_type": "code",
        "colab": {
          "base_uri": "https://localhost:8080/",
          "height": 35
        },
        "outputId": "2ab6be9f-b410-4e7b-9a9f-6d2b00826f3d"
      },
      "source": [
        "X_test1.shape"
      ],
      "execution_count": 34,
      "outputs": [
        {
          "output_type": "execute_result",
          "data": {
            "text/plain": [
              "(148207, 1, 40)"
            ]
          },
          "metadata": {
            "tags": []
          },
          "execution_count": 34
        }
      ]
    },
    {
      "cell_type": "code",
      "metadata": {
        "id": "0hhE-oZuld0B",
        "colab_type": "code",
        "colab": {
          "base_uri": "https://localhost:8080/",
          "height": 35
        },
        "outputId": "e69244e8-2984-414f-ea35-0f087b3bd60c"
      },
      "source": [
        "Y_train1.shape"
      ],
      "execution_count": 35,
      "outputs": [
        {
          "output_type": "execute_result",
          "data": {
            "text/plain": [
              "(345814,)"
            ]
          },
          "metadata": {
            "tags": []
          },
          "execution_count": 35
        }
      ]
    },
    {
      "cell_type": "code",
      "metadata": {
        "id": "__OdwBHzlhB_",
        "colab_type": "code",
        "colab": {
          "base_uri": "https://localhost:8080/",
          "height": 35
        },
        "outputId": "5610093f-7e77-4789-e085-190712ebd05d"
      },
      "source": [
        "Y_test1.shape"
      ],
      "execution_count": 36,
      "outputs": [
        {
          "output_type": "execute_result",
          "data": {
            "text/plain": [
              "(148207,)"
            ]
          },
          "metadata": {
            "tags": []
          },
          "execution_count": 36
        }
      ]
    },
    {
      "cell_type": "code",
      "metadata": {
        "id": "4LNOx2XteUjr",
        "colab_type": "code",
        "colab": {}
      },
      "source": [
        "from keras.regularizers import l1,l2\n",
        "from keras.layers import Bidirectional\n"
      ],
      "execution_count": 37,
      "outputs": []
    },
    {
      "cell_type": "code",
      "metadata": {
        "id": "tB_--fEi3l1K",
        "colab_type": "code",
        "colab": {}
      },
      "source": [
        "lstm_output_size = 70\n",
        "\n",
        "cnn = Sequential()\n",
        "cnn.add(Convolution1D(128, 2, padding=\"same\",activation=\"relu\",input_shape=(1,40)))\n",
        "cnn.add(Convolution1D(64, 2, padding=\"same\", activation=\"relu\"))\n",
        "cnn.add(MaxPooling1D(pool_size=(1)))\n",
        "cnn.add(LSTM(lstm_output_size))\n",
        "cnn.add(Dropout(0.1))\n",
        "cnn.add(Dense(1, activation=\"sigmoid\"))"
      ],
      "execution_count": 70,
      "outputs": []
    },
    {
      "cell_type": "code",
      "metadata": {
        "id": "h6oLsZRWuOBx",
        "colab_type": "code",
        "colab": {
          "base_uri": "https://localhost:8080/",
          "height": 1000
        },
        "outputId": "5e193ef6-a4cf-4d83-d60b-2729d233fd91"
      },
      "source": [
        "from keras import backend as K\n",
        "import keras\n",
        "optimizer = keras.optimizers.Adam(lr=0.001)\n",
        "cnn.compile(loss='binary_crossentropy',optimizer=optimizer,metrics=['accuracy'])\n",
        "es = EarlyStopping(monitor='val_loss', mode='min', verbose=1, patience=50)\n",
        "checkpointer = callbacks.ModelCheckpoint(filepath=\"kddresults/lstm2layer/checkpoint-{epoch:02d}.hdf5\", verbose=1, save_best_only=True, monitor='val_acc',mode='max')\n",
        "csv_logger = CSVLogger('training_set_iranalysis1.csv',separator=',', append=False)\n",
        "history = cnn.fit(X_train1, Y_train1, batch_size=lstm_output_size, epochs=50, validation_data=(X_test1, Y_test1),callbacks=[checkpointer,es])"
      ],
      "execution_count": 71,
      "outputs": [
        {
          "output_type": "stream",
          "text": [
            "Epoch 1/50\n",
            "4937/4941 [============================>.] - ETA: 0s - loss: 0.0220 - accuracy: 0.9926WARNING:tensorflow:Can save best model only with val_acc available, skipping.\n",
            "4941/4941 [==============================] - 22s 4ms/step - loss: 0.0220 - accuracy: 0.9926 - val_loss: 0.0096 - val_accuracy: 0.9975\n",
            "Epoch 2/50\n",
            "4932/4941 [============================>.] - ETA: 0s - loss: 0.0085 - accuracy: 0.9975WARNING:tensorflow:Can save best model only with val_acc available, skipping.\n",
            "4941/4941 [==============================] - 20s 4ms/step - loss: 0.0085 - accuracy: 0.9975 - val_loss: 0.0078 - val_accuracy: 0.9980\n",
            "Epoch 3/50\n",
            "4937/4941 [============================>.] - ETA: 0s - loss: 0.0070 - accuracy: 0.9979WARNING:tensorflow:Can save best model only with val_acc available, skipping.\n",
            "4941/4941 [==============================] - 19s 4ms/step - loss: 0.0070 - accuracy: 0.9979 - val_loss: 0.0066 - val_accuracy: 0.9980\n",
            "Epoch 4/50\n",
            "4939/4941 [============================>.] - ETA: 0s - loss: 0.0064 - accuracy: 0.9980WARNING:tensorflow:Can save best model only with val_acc available, skipping.\n",
            "4941/4941 [==============================] - 19s 4ms/step - loss: 0.0064 - accuracy: 0.9980 - val_loss: 0.0063 - val_accuracy: 0.9980\n",
            "Epoch 5/50\n",
            "4941/4941 [==============================] - ETA: 0s - loss: 0.0056 - accuracy: 0.9983WARNING:tensorflow:Can save best model only with val_acc available, skipping.\n",
            "4941/4941 [==============================] - 19s 4ms/step - loss: 0.0056 - accuracy: 0.9983 - val_loss: 0.0065 - val_accuracy: 0.9981\n",
            "Epoch 6/50\n",
            "4928/4941 [============================>.] - ETA: 0s - loss: 0.0053 - accuracy: 0.9984WARNING:tensorflow:Can save best model only with val_acc available, skipping.\n",
            "4941/4941 [==============================] - 22s 5ms/step - loss: 0.0053 - accuracy: 0.9984 - val_loss: 0.0063 - val_accuracy: 0.9984\n",
            "Epoch 7/50\n",
            "4941/4941 [==============================] - ETA: 0s - loss: 0.0049 - accuracy: 0.9985WARNING:tensorflow:Can save best model only with val_acc available, skipping.\n",
            "4941/4941 [==============================] - 20s 4ms/step - loss: 0.0049 - accuracy: 0.9985 - val_loss: 0.0047 - val_accuracy: 0.9986\n",
            "Epoch 8/50\n",
            "4938/4941 [============================>.] - ETA: 0s - loss: 0.0047 - accuracy: 0.9986WARNING:tensorflow:Can save best model only with val_acc available, skipping.\n",
            "4941/4941 [==============================] - 19s 4ms/step - loss: 0.0047 - accuracy: 0.9986 - val_loss: 0.0052 - val_accuracy: 0.9984\n",
            "Epoch 9/50\n",
            "4936/4941 [============================>.] - ETA: 0s - loss: 0.0044 - accuracy: 0.9986WARNING:tensorflow:Can save best model only with val_acc available, skipping.\n",
            "4941/4941 [==============================] - 20s 4ms/step - loss: 0.0044 - accuracy: 0.9986 - val_loss: 0.0046 - val_accuracy: 0.9986\n",
            "Epoch 10/50\n",
            "4937/4941 [============================>.] - ETA: 0s - loss: 0.0042 - accuracy: 0.9987WARNING:tensorflow:Can save best model only with val_acc available, skipping.\n",
            "4941/4941 [==============================] - 20s 4ms/step - loss: 0.0042 - accuracy: 0.9987 - val_loss: 0.0041 - val_accuracy: 0.9987\n",
            "Epoch 11/50\n",
            "4930/4941 [============================>.] - ETA: 0s - loss: 0.0040 - accuracy: 0.9988WARNING:tensorflow:Can save best model only with val_acc available, skipping.\n",
            "4941/4941 [==============================] - 20s 4ms/step - loss: 0.0040 - accuracy: 0.9988 - val_loss: 0.0043 - val_accuracy: 0.9988\n",
            "Epoch 12/50\n",
            "4929/4941 [============================>.] - ETA: 0s - loss: 0.0037 - accuracy: 0.9989WARNING:tensorflow:Can save best model only with val_acc available, skipping.\n",
            "4941/4941 [==============================] - 20s 4ms/step - loss: 0.0037 - accuracy: 0.9989 - val_loss: 0.0063 - val_accuracy: 0.9973\n",
            "Epoch 13/50\n",
            "4940/4941 [============================>.] - ETA: 0s - loss: 0.0037 - accuracy: 0.9988WARNING:tensorflow:Can save best model only with val_acc available, skipping.\n",
            "4941/4941 [==============================] - 20s 4ms/step - loss: 0.0037 - accuracy: 0.9988 - val_loss: 0.0044 - val_accuracy: 0.9987\n",
            "Epoch 14/50\n",
            "4934/4941 [============================>.] - ETA: 0s - loss: 0.0035 - accuracy: 0.9989WARNING:tensorflow:Can save best model only with val_acc available, skipping.\n",
            "4941/4941 [==============================] - 20s 4ms/step - loss: 0.0034 - accuracy: 0.9989 - val_loss: 0.0043 - val_accuracy: 0.9989\n",
            "Epoch 15/50\n",
            "4930/4941 [============================>.] - ETA: 0s - loss: 0.0034 - accuracy: 0.9990WARNING:tensorflow:Can save best model only with val_acc available, skipping.\n",
            "4941/4941 [==============================] - 20s 4ms/step - loss: 0.0035 - accuracy: 0.9990 - val_loss: 0.0036 - val_accuracy: 0.9990\n",
            "Epoch 16/50\n",
            "4929/4941 [============================>.] - ETA: 0s - loss: 0.0033 - accuracy: 0.9990WARNING:tensorflow:Can save best model only with val_acc available, skipping.\n",
            "4941/4941 [==============================] - 20s 4ms/step - loss: 0.0033 - accuracy: 0.9990 - val_loss: 0.0044 - val_accuracy: 0.9989\n",
            "Epoch 17/50\n",
            "4937/4941 [============================>.] - ETA: 0s - loss: 0.0031 - accuracy: 0.9991WARNING:tensorflow:Can save best model only with val_acc available, skipping.\n",
            "4941/4941 [==============================] - 20s 4ms/step - loss: 0.0031 - accuracy: 0.9991 - val_loss: 0.0034 - val_accuracy: 0.9990\n",
            "Epoch 18/50\n",
            "4937/4941 [============================>.] - ETA: 0s - loss: 0.0030 - accuracy: 0.9990WARNING:tensorflow:Can save best model only with val_acc available, skipping.\n",
            "4941/4941 [==============================] - 20s 4ms/step - loss: 0.0030 - accuracy: 0.9990 - val_loss: 0.0035 - val_accuracy: 0.9990\n",
            "Epoch 19/50\n",
            "4928/4941 [============================>.] - ETA: 0s - loss: 0.0030 - accuracy: 0.9991WARNING:tensorflow:Can save best model only with val_acc available, skipping.\n",
            "4941/4941 [==============================] - 20s 4ms/step - loss: 0.0030 - accuracy: 0.9991 - val_loss: 0.0043 - val_accuracy: 0.9987\n",
            "Epoch 20/50\n",
            "4931/4941 [============================>.] - ETA: 0s - loss: 0.0028 - accuracy: 0.9991WARNING:tensorflow:Can save best model only with val_acc available, skipping.\n",
            "4941/4941 [==============================] - 20s 4ms/step - loss: 0.0029 - accuracy: 0.9991 - val_loss: 0.0035 - val_accuracy: 0.9990\n",
            "Epoch 21/50\n",
            "4931/4941 [============================>.] - ETA: 0s - loss: 0.0028 - accuracy: 0.9991WARNING:tensorflow:Can save best model only with val_acc available, skipping.\n",
            "4941/4941 [==============================] - 20s 4ms/step - loss: 0.0028 - accuracy: 0.9991 - val_loss: 0.0045 - val_accuracy: 0.9986\n",
            "Epoch 22/50\n",
            "4938/4941 [============================>.] - ETA: 0s - loss: 0.0027 - accuracy: 0.9991WARNING:tensorflow:Can save best model only with val_acc available, skipping.\n",
            "4941/4941 [==============================] - 20s 4ms/step - loss: 0.0027 - accuracy: 0.9991 - val_loss: 0.0033 - val_accuracy: 0.9990\n",
            "Epoch 23/50\n",
            "4941/4941 [==============================] - ETA: 0s - loss: 0.0027 - accuracy: 0.9992WARNING:tensorflow:Can save best model only with val_acc available, skipping.\n",
            "4941/4941 [==============================] - 20s 4ms/step - loss: 0.0027 - accuracy: 0.9992 - val_loss: 0.0036 - val_accuracy: 0.9990\n",
            "Epoch 24/50\n",
            "4936/4941 [============================>.] - ETA: 0s - loss: 0.0027 - accuracy: 0.9992WARNING:tensorflow:Can save best model only with val_acc available, skipping.\n",
            "4941/4941 [==============================] - 20s 4ms/step - loss: 0.0027 - accuracy: 0.9992 - val_loss: 0.0031 - val_accuracy: 0.9990\n",
            "Epoch 25/50\n",
            "4941/4941 [==============================] - ETA: 0s - loss: 0.0026 - accuracy: 0.9991WARNING:tensorflow:Can save best model only with val_acc available, skipping.\n",
            "4941/4941 [==============================] - 20s 4ms/step - loss: 0.0026 - accuracy: 0.9991 - val_loss: 0.0030 - val_accuracy: 0.9991\n",
            "Epoch 26/50\n",
            "4930/4941 [============================>.] - ETA: 0s - loss: 0.0026 - accuracy: 0.9992WARNING:tensorflow:Can save best model only with val_acc available, skipping.\n",
            "4941/4941 [==============================] - 19s 4ms/step - loss: 0.0026 - accuracy: 0.9992 - val_loss: 0.0043 - val_accuracy: 0.9988\n",
            "Epoch 27/50\n",
            "4939/4941 [============================>.] - ETA: 0s - loss: 0.0025 - accuracy: 0.9992WARNING:tensorflow:Can save best model only with val_acc available, skipping.\n",
            "4941/4941 [==============================] - 19s 4ms/step - loss: 0.0025 - accuracy: 0.9992 - val_loss: 0.0031 - val_accuracy: 0.9991\n",
            "Epoch 28/50\n",
            "4940/4941 [============================>.] - ETA: 0s - loss: 0.0025 - accuracy: 0.9993WARNING:tensorflow:Can save best model only with val_acc available, skipping.\n",
            "4941/4941 [==============================] - 19s 4ms/step - loss: 0.0025 - accuracy: 0.9993 - val_loss: 0.0034 - val_accuracy: 0.9991\n",
            "Epoch 29/50\n",
            "4929/4941 [============================>.] - ETA: 0s - loss: 0.0024 - accuracy: 0.9992WARNING:tensorflow:Can save best model only with val_acc available, skipping.\n",
            "4941/4941 [==============================] - 20s 4ms/step - loss: 0.0024 - accuracy: 0.9992 - val_loss: 0.0029 - val_accuracy: 0.9991\n",
            "Epoch 30/50\n",
            "4936/4941 [============================>.] - ETA: 0s - loss: 0.0024 - accuracy: 0.9992WARNING:tensorflow:Can save best model only with val_acc available, skipping.\n",
            "4941/4941 [==============================] - 20s 4ms/step - loss: 0.0024 - accuracy: 0.9992 - val_loss: 0.0037 - val_accuracy: 0.9988\n",
            "Epoch 31/50\n",
            "4935/4941 [============================>.] - ETA: 0s - loss: 0.0024 - accuracy: 0.9992WARNING:tensorflow:Can save best model only with val_acc available, skipping.\n",
            "4941/4941 [==============================] - 19s 4ms/step - loss: 0.0024 - accuracy: 0.9992 - val_loss: 0.0031 - val_accuracy: 0.9991\n",
            "Epoch 32/50\n",
            "4941/4941 [==============================] - ETA: 0s - loss: 0.0023 - accuracy: 0.9992WARNING:tensorflow:Can save best model only with val_acc available, skipping.\n",
            "4941/4941 [==============================] - 20s 4ms/step - loss: 0.0023 - accuracy: 0.9992 - val_loss: 0.0033 - val_accuracy: 0.9990\n",
            "Epoch 33/50\n",
            "4934/4941 [============================>.] - ETA: 0s - loss: 0.0023 - accuracy: 0.9993WARNING:tensorflow:Can save best model only with val_acc available, skipping.\n",
            "4941/4941 [==============================] - 20s 4ms/step - loss: 0.0023 - accuracy: 0.9993 - val_loss: 0.0031 - val_accuracy: 0.9990\n",
            "Epoch 34/50\n",
            "4936/4941 [============================>.] - ETA: 0s - loss: 0.0023 - accuracy: 0.9993WARNING:tensorflow:Can save best model only with val_acc available, skipping.\n",
            "4941/4941 [==============================] - 19s 4ms/step - loss: 0.0023 - accuracy: 0.9993 - val_loss: 0.0030 - val_accuracy: 0.9991\n",
            "Epoch 35/50\n",
            "4930/4941 [============================>.] - ETA: 0s - loss: 0.0023 - accuracy: 0.9993WARNING:tensorflow:Can save best model only with val_acc available, skipping.\n",
            "4941/4941 [==============================] - 20s 4ms/step - loss: 0.0023 - accuracy: 0.9993 - val_loss: 0.0029 - val_accuracy: 0.9992\n",
            "Epoch 36/50\n",
            "4939/4941 [============================>.] - ETA: 0s - loss: 0.0023 - accuracy: 0.9993WARNING:tensorflow:Can save best model only with val_acc available, skipping.\n",
            "4941/4941 [==============================] - 19s 4ms/step - loss: 0.0023 - accuracy: 0.9993 - val_loss: 0.0031 - val_accuracy: 0.9990\n",
            "Epoch 37/50\n",
            "4937/4941 [============================>.] - ETA: 0s - loss: 0.0022 - accuracy: 0.9993WARNING:tensorflow:Can save best model only with val_acc available, skipping.\n",
            "4941/4941 [==============================] - 22s 4ms/step - loss: 0.0022 - accuracy: 0.9993 - val_loss: 0.0027 - val_accuracy: 0.9992\n",
            "Epoch 38/50\n",
            "4938/4941 [============================>.] - ETA: 0s - loss: 0.0022 - accuracy: 0.9993WARNING:tensorflow:Can save best model only with val_acc available, skipping.\n",
            "4941/4941 [==============================] - 20s 4ms/step - loss: 0.0022 - accuracy: 0.9993 - val_loss: 0.0033 - val_accuracy: 0.9991\n",
            "Epoch 39/50\n",
            "4929/4941 [============================>.] - ETA: 0s - loss: 0.0022 - accuracy: 0.9994WARNING:tensorflow:Can save best model only with val_acc available, skipping.\n",
            "4941/4941 [==============================] - 19s 4ms/step - loss: 0.0022 - accuracy: 0.9993 - val_loss: 0.0030 - val_accuracy: 0.9991\n",
            "Epoch 40/50\n",
            "4936/4941 [============================>.] - ETA: 0s - loss: 0.0020 - accuracy: 0.9993WARNING:tensorflow:Can save best model only with val_acc available, skipping.\n",
            "4941/4941 [==============================] - 19s 4ms/step - loss: 0.0020 - accuracy: 0.9993 - val_loss: 0.0038 - val_accuracy: 0.9990\n",
            "Epoch 41/50\n",
            "4938/4941 [============================>.] - ETA: 0s - loss: 0.0021 - accuracy: 0.9993WARNING:tensorflow:Can save best model only with val_acc available, skipping.\n",
            "4941/4941 [==============================] - 20s 4ms/step - loss: 0.0021 - accuracy: 0.9993 - val_loss: 0.0028 - val_accuracy: 0.9991\n",
            "Epoch 42/50\n",
            "4938/4941 [============================>.] - ETA: 0s - loss: 0.0021 - accuracy: 0.9994WARNING:tensorflow:Can save best model only with val_acc available, skipping.\n",
            "4941/4941 [==============================] - 20s 4ms/step - loss: 0.0021 - accuracy: 0.9994 - val_loss: 0.0026 - val_accuracy: 0.9992\n",
            "Epoch 43/50\n",
            "4932/4941 [============================>.] - ETA: 0s - loss: 0.0021 - accuracy: 0.9993WARNING:tensorflow:Can save best model only with val_acc available, skipping.\n",
            "4941/4941 [==============================] - 20s 4ms/step - loss: 0.0021 - accuracy: 0.9993 - val_loss: 0.0031 - val_accuracy: 0.9992\n",
            "Epoch 44/50\n",
            "4937/4941 [============================>.] - ETA: 0s - loss: 0.0021 - accuracy: 0.9994WARNING:tensorflow:Can save best model only with val_acc available, skipping.\n",
            "4941/4941 [==============================] - 20s 4ms/step - loss: 0.0021 - accuracy: 0.9994 - val_loss: 0.0027 - val_accuracy: 0.9992\n",
            "Epoch 45/50\n",
            "4939/4941 [============================>.] - ETA: 0s - loss: 0.0021 - accuracy: 0.9993WARNING:tensorflow:Can save best model only with val_acc available, skipping.\n",
            "4941/4941 [==============================] - 20s 4ms/step - loss: 0.0021 - accuracy: 0.9993 - val_loss: 0.0032 - val_accuracy: 0.9991\n",
            "Epoch 46/50\n",
            "4932/4941 [============================>.] - ETA: 0s - loss: 0.0020 - accuracy: 0.9993WARNING:tensorflow:Can save best model only with val_acc available, skipping.\n",
            "4941/4941 [==============================] - 21s 4ms/step - loss: 0.0020 - accuracy: 0.9993 - val_loss: 0.0032 - val_accuracy: 0.9990\n",
            "Epoch 47/50\n",
            "4929/4941 [============================>.] - ETA: 0s - loss: 0.0020 - accuracy: 0.9994WARNING:tensorflow:Can save best model only with val_acc available, skipping.\n",
            "4941/4941 [==============================] - 21s 4ms/step - loss: 0.0020 - accuracy: 0.9994 - val_loss: 0.0030 - val_accuracy: 0.9991\n",
            "Epoch 48/50\n",
            "4938/4941 [============================>.] - ETA: 0s - loss: 0.0020 - accuracy: 0.9994WARNING:tensorflow:Can save best model only with val_acc available, skipping.\n",
            "4941/4941 [==============================] - 20s 4ms/step - loss: 0.0021 - accuracy: 0.9994 - val_loss: 0.0030 - val_accuracy: 0.9991\n",
            "Epoch 49/50\n",
            "4927/4941 [============================>.] - ETA: 0s - loss: 0.0020 - accuracy: 0.9994WARNING:tensorflow:Can save best model only with val_acc available, skipping.\n",
            "4941/4941 [==============================] - 19s 4ms/step - loss: 0.0020 - accuracy: 0.9994 - val_loss: 0.0029 - val_accuracy: 0.9991\n",
            "Epoch 50/50\n",
            "4930/4941 [============================>.] - ETA: 0s - loss: 0.0019 - accuracy: 0.9994WARNING:tensorflow:Can save best model only with val_acc available, skipping.\n",
            "4941/4941 [==============================] - 19s 4ms/step - loss: 0.0019 - accuracy: 0.9994 - val_loss: 0.0029 - val_accuracy: 0.9992\n"
          ],
          "name": "stdout"
        }
      ]
    },
    {
      "cell_type": "code",
      "metadata": {
        "id": "1jMwkIHp6PPJ",
        "colab_type": "code",
        "colab": {
          "base_uri": "https://localhost:8080/",
          "height": 72
        },
        "outputId": "3bf89e89-64b9-4cc7-e5f6-22643d1edc53"
      },
      "source": [
        "loss, accuracy = cnn.evaluate(X_test1, Y_test1)\n",
        "print(\"\\nLoss: %.2f, Accuracy: %.2f%%\" % (loss, accuracy*100))\n",
        "y_pred1 = cnn.predict_classes(X_test1)"
      ],
      "execution_count": 72,
      "outputs": [
        {
          "output_type": "stream",
          "text": [
            "4632/4632 [==============================] - 5s 1ms/step - loss: 0.0029 - accuracy: 0.9992\n",
            "\n",
            "Loss: 0.00, Accuracy: 99.92%\n"
          ],
          "name": "stdout"
        }
      ]
    },
    {
      "cell_type": "code",
      "metadata": {
        "id": "EscEexHF8JR6",
        "colab_type": "code",
        "colab": {
          "base_uri": "https://localhost:8080/",
          "height": 202
        },
        "outputId": "6cd7fc84-9343-4779-8961-0936dc347adc"
      },
      "source": [
        "accuracy = accuracy_score(Y_test1, y_pred1)\n",
        "recall = recall_score(Y_test1, y_pred1 , average=\"binary\")\n",
        "precision = precision_score(Y_test1, y_pred1 , average=\"binary\")\n",
        "f1 = f1_score(Y_test1, y_pred1, average=\"binary\")\n",
        "\n",
        "print(\"confusion matrix\")\n",
        "print(\"----------------------------------------------\")\n",
        "print(\"accuracy\")\n",
        "print(\"%.6f\" %accuracy)\n",
        "print(\"recall\")\n",
        "print(\"%.6f\" %recall)\n",
        "print(\"precision\")\n",
        "print(\"%.6f\" %precision)\n",
        "print(\"f1score\")\n",
        "print(\"%.6f\" %f1)"
      ],
      "execution_count": 73,
      "outputs": [
        {
          "output_type": "stream",
          "text": [
            "confusion matrix\n",
            "----------------------------------------------\n",
            "accuracy\n",
            "0.999224\n",
            "recall\n",
            "0.999184\n",
            "precision\n",
            "0.999849\n",
            "f1score\n",
            "0.999516\n"
          ],
          "name": "stdout"
        }
      ]
    },
    {
      "cell_type": "code",
      "metadata": {
        "id": "svFG8FJM71x_",
        "colab_type": "code",
        "colab": {
          "base_uri": "https://localhost:8080/",
          "height": 295
        },
        "outputId": "5e80d51d-ab2d-4be6-d075-64e2c8586fc6"
      },
      "source": [
        "import matplotlib.pyplot as plt\n",
        "%matplotlib inline\n",
        "\n",
        "loss_train = np.array(history.history['loss'])\n",
        "loss_val = np.array(history.history['val_loss'])\n",
        "\n",
        "epochs = range(0,50)\n",
        "plt.plot(epochs, loss_train, 'g', label='Training loss')\n",
        "plt.plot(epochs, loss_val, 'b', label='Validation Loss')\n",
        "plt.title('Training and Validation Loss')\n",
        "plt.xlabel('Epochs')\n",
        "plt.ylabel('Loss')\n",
        "plt.legend()\n",
        "plt.show()"
      ],
      "execution_count": 75,
      "outputs": [
        {
          "output_type": "display_data",
          "data": {
            "image/png": "[encoded data removed]",
            "text/plain": [
              "<Figure size 432x288 with 1 Axes>"
            ]
          },
          "metadata": {
            "tags": [],
            "needs_background": "light"
          }
        }
      ]
    },
    {
      "cell_type": "code",
      "metadata": {
        "id": "U9C_fon78BDp",
        "colab_type": "code",
        "colab": {
          "base_uri": "https://localhost:8080/",
          "height": 295
        },
        "outputId": "e8210590-e9ae-4127-d99c-7ed232965ecf"
      },
      "source": [
        "loss_train = history.history['accuracy']\n",
        "loss_val = history.history['val_accuracy']\n",
        "epochs = range(0,50)\n",
        "plt.plot(epochs, loss_train, 'g', label='Training accuracy')\n",
        "plt.plot(epochs, loss_val, 'b', label='validation accuracy')\n",
        "plt.title('Training and Validation accuracy')\n",
        "plt.xlabel('Epochs')\n",
        "plt.ylabel('Accuracy')\n",
        "plt.legend()\n",
        "plt.show()"
      ],
      "execution_count": 76,
      "outputs": [
        {
          "output_type": "display_data",
          "data": {
            "image/png": "[encoded data removed]",
            "text/plain": [
              "<Figure size 432x288 with 1 Axes>"
            ]
          },
          "metadata": {
            "tags": [],
            "needs_background": "light"
          }
        }
      ]
    },
    {
      "cell_type": "code",
      "metadata": {
        "id": "iyhEBlZo8FBt",
        "colab_type": "code",
        "colab": {
          "base_uri": "https://localhost:8080/",
          "height": 316
        },
        "outputId": "e3b38afd-0856-4456-9b3a-9622de3ec118"
      },
      "source": [
        "from mlxtend.plotting import plot_confusion_matrix\n",
        "from sklearn.metrics import confusion_matrix\n",
        "mat = confusion_matrix(Y_test1,y_pred1)\n",
        "plot_confusion_matrix(conf_mat=mat)"
      ],
      "execution_count": 77,
      "outputs": [
        {
          "output_type": "execute_result",
          "data": {
            "text/plain": [
              "(<Figure size 432x288 with 1 Axes>,\n",
              " <matplotlib.axes._subplots.AxesSubplot at 0x7f5a89b8fdd8>)"
            ]
          },
          "metadata": {
            "tags": []
          },
          "execution_count": 77
        },
        {
          "output_type": "display_data",
          "data": {
            "image/png": "[encoded data removed]",
            "text/plain": [
              "<Figure size 432x288 with 1 Axes>"
            ]
          },
          "metadata": {
            "tags": [],
            "needs_background": "light"
          }
        }
      ]
    }
  ]
}